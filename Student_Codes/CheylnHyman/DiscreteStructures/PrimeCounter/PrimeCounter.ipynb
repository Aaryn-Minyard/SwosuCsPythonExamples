{
 "cells": [
  {
   "cell_type": "markdown",
   "source": [
    "# Prime Number Finder\n",
    "    this program finds all the prime numbers in a range of numbers\n",
    "    it uses multiprocessing and a timer.\n",
    "    Basic goal is a benchmark\n"
   ],
   "metadata": {
    "collapsed": false
   }
  },
  {
   "cell_type": "code",
   "execution_count": 1,
   "outputs": [
    {
     "name": "stdout",
     "output_type": "stream",
     "text": [
      "Run 1 / 3   5.378 seconds\n",
      "Run 2 / 3   5.447 seconds\n",
      "Run 3 / 3   5.35 seconds\n",
      "numbers searched:  1000000\n",
      "primes found:  28665\n",
      "cpu count:  64\n",
      "processes:  3\n",
      "Average time taken: 5.392 seconds\n",
      "total elapsed time:  16.175 seconds\n"
     ]
    }
   ],
   "source": [
    "import multiprocessing\n",
    "import math\n",
    "import time\n",
    "import os\n",
    "\n",
    "# multiprocessing is used to create multiple processes to speed up the program, MUST HAVE IF NAME == MAIN\n",
    "# you have to play with the numbers to get the best results, more cores is better for high er numbers but less cores is better for lower numbers,\n",
    "# i think\n",
    "\n",
    "counter_ceiling = 1000000\n",
    "process_nummber = 3\n",
    "\n",
    "test_length = 3\n",
    "chunk_count = process_nummber\n",
    "chunk_size = counter_ceiling / chunk_count\n",
    "chunks = [(i, i + chunk_size) for i in range(0, int(counter_ceiling), int(chunk_size))]\n",
    "total_primes = 0\n",
    "counter = 0\n",
    "average_time = 0\n",
    "\n",
    "def is_prime(n):\n",
    "    if n <= 1:\n",
    "        return False\n",
    "    for i in range(2, int(math.sqrt(n)) + 1):\n",
    "        if n % i == 0:\n",
    "            return False\n",
    "    return True\n",
    "def find_number_of_primes(start, end):\n",
    "    return sum(1 for i in range(int(start), int(end)) if is_prime(i)) # adds 1 to the sum for every prime number in the range\n",
    "def pool_method(): # i think this is working as intended\n",
    "    global total_primes, counter\n",
    "\n",
    "    results = []\n",
    "\n",
    "    with multiprocessing.Pool(processes=process_nummber) as pool:\n",
    "        for i in range(process_nummber):\n",
    "            results.append(pool.apply_async(find_number_of_primes, args=(chunks[i]))) # adds the result of the function to the list\n",
    "            if counter == 0:\n",
    "                for result in results:\n",
    "                    total_primes += result.get()\n",
    "                counter += 1\n",
    "            else: # you have to run result.get everytime\n",
    "                for result in results:\n",
    "                    result.get()\n",
    "def get_average(number_of_times=test_length):\n",
    "    global average_time\n",
    "    total_time = 0\n",
    "\n",
    "    for i in range(number_of_times):\n",
    "        # clear screen\n",
    "        #os.system('cls' if os.name == 'nt' else 'clear')\n",
    "        print(f\"Run {i+1} / {number_of_times}   \", end='')\n",
    "\n",
    "        # run the program and time it\n",
    "        start_time = time.time()\n",
    "        pool_method()\n",
    "        end_time = time.time()\n",
    "\n",
    "        total_time += end_time - start_time\n",
    "        print(round(end_time - start_time,3), 'seconds')\n",
    "    average_time = total_time / number_of_times\n",
    "\n",
    "\n",
    "\n",
    "\n",
    "\n",
    "if __name__ == '__main__':\n",
    "    # timer\n",
    "    start_time = time.time()\n",
    "\n",
    "\n",
    "    get_average()\n",
    "\n",
    "\n",
    "    #timer\n",
    "    end_time = time.time()\n",
    "\n",
    "\n",
    "\n",
    "    print(\"numbers searched: \", counter_ceiling)\n",
    "    print(\"primes found: \", total_primes)\n",
    "    print(\"cpu count: \", os.cpu_count())\n",
    "    print(\"processes: \", process_nummber)\n",
    "    print(f\"Average time taken: {round(average_time, 3)} seconds\")\n",
    "    print('total elapsed time: ',round(end_time - start_time, 3), 'seconds')\n",
    "\n",
    "\n",
    "\n"
   ],
   "metadata": {
    "collapsed": false
   }
  }
 ],
 "metadata": {
  "kernelspec": {
   "display_name": "Python 3",
   "language": "python",
   "name": "python3"
  },
  "language_info": {
   "codemirror_mode": {
    "name": "ipython",
    "version": 2
   },
   "file_extension": ".py",
   "mimetype": "text/x-python",
   "name": "python",
   "nbconvert_exporter": "python",
   "pygments_lexer": "ipython2",
   "version": "2.7.6"
  }
 },
 "nbformat": 4,
 "nbformat_minor": 0
}
